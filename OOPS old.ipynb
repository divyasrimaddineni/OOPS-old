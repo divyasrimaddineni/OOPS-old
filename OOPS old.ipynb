{
 "cells": [
  {
   "cell_type": "code",
   "execution_count": null,
   "metadata": {},
   "outputs": [],
   "source": [
    "\n",
    "method--it is a function that is associated with an object.\n",
    "polymorphism--poly:many,morphs:form. one task can be performed in many ways.\n",
    "        To acquire/inherit features from parent class to child class we introduced OOPs concept.\n",
    "class--should consist variables and methods.\n",
    "variables--instance(temporary)variable,static variable,local variable.\n",
    "method--static method,instance method,class method.\n",
    ".class\n",
    ".object\n",
    ".method\n",
    ".inheritance\n",
    ".polymorphism\n",
    ".encapsulation\n",
    ".data abstraction\n",
    "python is an object-oriented pgming language.\n",
    "oop--here computation is done using objects.\n",
    "   --it makes development and maintainance easier.\n",
    "   --real-world problems can be solved here & it simulates real-world entity.\n",
    "   --it provides data hiding i.e,secure than procedural languages.\n",
    "class--it is like a blueprint and it is a collection of objects.\n",
    "     --it is a logical entity that has some attributes and methods.\n",
    "object--it is an instance of a class.\n",
    "      --object has some behaviour and state and appearance.\n",
    "      --object is a real-world entity like mouse,chair,humans etc...\n",
    "NOTE:all functions having built-in attribute i.e,__doc__.\n",
    "\n"
   ]
  },
  {
   "cell_type": "markdown",
   "metadata": {},
   "source": [
    "# CLASS "
   ]
  },
  {
   "cell_type": "code",
   "execution_count": 1,
   "metadata": {},
   "outputs": [
    {
     "name": "stdout",
     "output_type": "stream",
     "text": [
      "hello this is a doc string\n",
      "Help on class student in module __main__:\n",
      "\n",
      "class student(builtins.object)\n",
      " |  hello this is a doc string\n",
      " |  \n",
      " |  Data descriptors defined here:\n",
      " |  \n",
      " |  __dict__\n",
      " |      dictionary for instance variables (if defined)\n",
      " |  \n",
      " |  __weakref__\n",
      " |      list of weak references to the object (if defined)\n",
      "\n"
     ]
    }
   ],
   "source": [
    "class student:\n",
    "    '''hello this is a doc string'''\n",
    "print(student.__doc__)\n",
    "help(student)"
   ]
  },
  {
   "cell_type": "markdown",
   "metadata": {},
   "source": [
    "# self varaiable:\n",
    "self is the default variable which always pointing to current object(like \"this\" keyword in java)\n",
    "\n",
    "1.self should be first parameter inside constructor.\n",
    "def__init__(self):\n",
    "2.self should be first parameter inside instance methods.\n",
    "def talk(self):"
   ]
  },
  {
   "cell_type": "markdown",
   "metadata": {},
   "source": [
    "# CONSTRUCTOR"
   ]
  },
  {
   "cell_type": "code",
   "execution_count": null,
   "metadata": {},
   "outputs": [],
   "source": [
    "1.constructor is a special method in python.\n",
    "2.the name of the constructor should be __init__(self).\n",
    "3.constructor will be executed automatically at the time of object creation.\n",
    "4.the main purpose of constructor is to declare and initialize instance variables.\n",
    "5.per object constructor will be executed once.\n",
    "6.constructor can be take atleast one argument(atlest one).\n",
    "7.constructor is optional and if we are not providing any constructor then python will provide default constructor."
   ]
  },
  {
   "cell_type": "code",
   "execution_count": 14,
   "metadata": {},
   "outputs": [
    {
     "name": "stdout",
     "output_type": "stream",
     "text": [
      "constructor execution...\n",
      "constructor execution...\n",
      "constructor execution...\n",
      "method execution...\n",
      "2386882985352\n",
      "2386882985416\n",
      "2386882983112\n"
     ]
    }
   ],
   "source": [
    "class Test:\n",
    "    def __init__(self):\n",
    "        print(\"constructor execution...\")\n",
    "    def m1(self):\n",
    "        print(\"method execution...\")\n",
    "t1=Test() #t1,t2,t3 are reference variables\n",
    "t2=Test()\n",
    "t3=Test()\n",
    "t1.m1()\n",
    "print(id(t1))\n",
    "print(id(t2))\n",
    "print(id(t3))"
   ]
  },
  {
   "cell_type": "code",
   "execution_count": 16,
   "metadata": {},
   "outputs": [
    {
     "name": "stdout",
     "output_type": "stream",
     "text": [
      "student name: divyasri id: 1234 marks: 100\n"
     ]
    }
   ],
   "source": [
    "class Student:\n",
    "    '''this is test class to understand class and constructor,instance method'''\n",
    "    def __init__(self,x,y,z):\n",
    "        self.name=x\n",
    "        self.id=y\n",
    "        self.marks=z\n",
    "    def details(self): #instance method=details\n",
    "        print(\"student name:\",self.name,\"id:\",self.id,\"marks:\",self.marks)\n",
    "s1=Student(\"divyasri\",1234,100) #s1=reference varaible\n",
    "s1.details()\n",
    "        "
   ]
  },
  {
   "cell_type": "code",
   "execution_count": 2,
   "metadata": {},
   "outputs": [],
   "source": [
    "#example\n",
    "def __init__(self,name,rollno,marks):\n",
    "    self.name=name\n",
    "    self.rollno=rollno\n",
    "    self.marks=marks"
   ]
  },
  {
   "cell_type": "code",
   "execution_count": 6,
   "metadata": {},
   "outputs": [
    {
     "name": "stdout",
     "output_type": "stream",
     "text": [
      "name is: divyasri age is: 20 marks are: 100\n"
     ]
    }
   ],
   "source": [
    "class student:\n",
    "    def __init__(self):\n",
    "        self.name=\"divyasri\"\n",
    "        self.age=20\n",
    "        self.marks=100\n",
    "    def talk(self):\n",
    "        print(\"name is:\",self.name,\"age is:\",self.age,\"marks are:\",self.marks)\n",
    "s1.talk()\n",
    "    "
   ]
  },
  {
   "cell_type": "code",
   "execution_count": 9,
   "metadata": {},
   "outputs": [
    {
     "name": "stdout",
     "output_type": "stream",
     "text": [
      "constructor execution.....\n",
      "method execution.....\n",
      "method execution.....\n"
     ]
    }
   ],
   "source": [
    "#pgm to demonstrate constructor will execute only once per object.\n",
    "class Test:\n",
    "    def __init__(self):\n",
    "        print(\"constructor execution.....\")\n",
    "    def m1(self):\n",
    "        print(\"method execution.....\")\n",
    "t1=Test()\n",
    "t1.m1()\n",
    "t1.m1()\n",
    "        "
   ]
  },
  {
   "cell_type": "code",
   "execution_count": 10,
   "metadata": {},
   "outputs": [],
   "source": [
    "class student:\n",
    "    \n",
    "    \n",
    "    def __init__(self,name,id,marks):\n",
    "        \n",
    "    \n",
    "        self.name=\"divyasri\"\n",
    "        self.id=1234\n",
    "        self.marks=100"
   ]
  },
  {
   "cell_type": "markdown",
   "metadata": {},
   "source": [
    "# variables"
   ]
  },
  {
   "cell_type": "code",
   "execution_count": 1,
   "metadata": {},
   "outputs": [
    {
     "name": "stdout",
     "output_type": "stream",
     "text": [
      "{'eno': 100, 'ename': 'venky', 'esal': 10000}\n"
     ]
    }
   ],
   "source": [
    "class Employee:\n",
    "    def __init__(self):\n",
    "        self.eno=100\n",
    "        self.ename=\"venky\"\n",
    "        self.esal=10000\n",
    "e=Employee()\n",
    "print(e.__dict__)"
   ]
  },
  {
   "cell_type": "code",
   "execution_count": 3,
   "metadata": {},
   "outputs": [
    {
     "name": "stdout",
     "output_type": "stream",
     "text": [
      "{'a': 10, 'b': 20, 'c': 30}\n"
     ]
    }
   ],
   "source": [
    "class test:\n",
    "    def __init__(self):\n",
    "        self.a=10\n",
    "        self.b=20\n",
    "    def m1(self):\n",
    "        self.c=30\n",
    "t=test()\n",
    "t.m1()\n",
    "print(t.__dict__)"
   ]
  },
  {
   "cell_type": "code",
   "execution_count": 7,
   "metadata": {},
   "outputs": [
    {
     "name": "stdout",
     "output_type": "stream",
     "text": [
      "{'a': 10, 'b': 20, 'c': 30, 'd': 40}\n"
     ]
    }
   ],
   "source": [
    "class test:\n",
    "    def __init__(self):\n",
    "        self.a=10\n",
    "        self.b=20\n",
    "    def m1(self):\n",
    "        self.c=30\n",
    "t=test()\n",
    "t.m1()\n",
    "t.d=40\n",
    "print(t.__dict__)"
   ]
  },
  {
   "cell_type": "markdown",
   "metadata": {},
   "source": [
    "# 1.syntax error"
   ]
  },
  {
   "cell_type": "code",
   "execution_count": 1,
   "metadata": {},
   "outputs": [
    {
     "ename": "SyntaxError",
     "evalue": "invalid syntax (<ipython-input-1-b19d96198bef>, line 2)",
     "output_type": "error",
     "traceback": [
      "\u001b[1;36m  File \u001b[1;32m\"<ipython-input-1-b19d96198bef>\"\u001b[1;36m, line \u001b[1;32m2\u001b[0m\n\u001b[1;33m    if x==10\u001b[0m\n\u001b[1;37m            ^\u001b[0m\n\u001b[1;31mSyntaxError\u001b[0m\u001b[1;31m:\u001b[0m invalid syntax\n"
     ]
    }
   ],
   "source": [
    "x=10\n",
    "if x==10\n",
    "print(\"hello\")"
   ]
  },
  {
   "cell_type": "code",
   "execution_count": 3,
   "metadata": {},
   "outputs": [
    {
     "ename": "SyntaxError",
     "evalue": "Missing parentheses in call to 'print'. Did you mean print(\"hello\")? (<ipython-input-3-2a0eaa89f43f>, line 1)",
     "output_type": "error",
     "traceback": [
      "\u001b[1;36m  File \u001b[1;32m\"<ipython-input-3-2a0eaa89f43f>\"\u001b[1;36m, line \u001b[1;32m1\u001b[0m\n\u001b[1;33m    print \"hello\"\u001b[0m\n\u001b[1;37m                ^\u001b[0m\n\u001b[1;31mSyntaxError\u001b[0m\u001b[1;31m:\u001b[0m Missing parentheses in call to 'print'. Did you mean print(\"hello\")?\n"
     ]
    }
   ],
   "source": [
    "print \"hello\""
   ]
  },
  {
   "cell_type": "markdown",
   "metadata": {},
   "source": [
    "# 2.runtime errors"
   ]
  },
  {
   "cell_type": "code",
   "execution_count": 4,
   "metadata": {},
   "outputs": [
    {
     "ename": "ZeroDivisionError",
     "evalue": "division by zero",
     "output_type": "error",
     "traceback": [
      "\u001b[1;31m---------------------------------------------------------------------------\u001b[0m",
      "\u001b[1;31mZeroDivisionError\u001b[0m                         Traceback (most recent call last)",
      "\u001b[1;32m<ipython-input-4-fe01563e1bc6>\u001b[0m in \u001b[0;36m<module>\u001b[1;34m\u001b[0m\n\u001b[1;32m----> 1\u001b[1;33m \u001b[0mprint\u001b[0m\u001b[1;33m(\u001b[0m\u001b[1;36m10\u001b[0m\u001b[1;33m/\u001b[0m\u001b[1;36m0\u001b[0m\u001b[1;33m)\u001b[0m\u001b[1;33m\u001b[0m\u001b[1;33m\u001b[0m\u001b[0m\n\u001b[0m",
      "\u001b[1;31mZeroDivisionError\u001b[0m: division by zero"
     ]
    }
   ],
   "source": [
    "print(10/0)\n"
   ]
  },
  {
   "cell_type": "code",
   "execution_count": 5,
   "metadata": {},
   "outputs": [
    {
     "name": "stdout",
     "output_type": "stream",
     "text": [
      "we should not divide the number with zero\n",
      "5.0\n"
     ]
    }
   ],
   "source": [
    "#handling of exceptions using TRY:\n",
    "x=10\n",
    "try:\n",
    "    print(x/0)\n",
    "except ZeroDivisionError:\n",
    "    print(\"we should not divide the number with zero\")\n",
    "    print(x/2)"
   ]
  },
  {
   "cell_type": "code",
   "execution_count": 6,
   "metadata": {},
   "outputs": [
    {
     "ename": "SyntaxError",
     "evalue": "can't assign to literal (<ipython-input-6-eec0abb80e33>, line 1)",
     "output_type": "error",
     "traceback": [
      "\u001b[1;36m  File \u001b[1;32m\"<ipython-input-6-eec0abb80e33>\"\u001b[1;36m, line \u001b[1;32m1\u001b[0m\n\u001b[1;33m    10=a\u001b[0m\n\u001b[1;37m        ^\u001b[0m\n\u001b[1;31mSyntaxError\u001b[0m\u001b[1;31m:\u001b[0m can't assign to literal\n"
     ]
    }
   ],
   "source": [
    "10=a"
   ]
  },
  {
   "cell_type": "code",
   "execution_count": 7,
   "metadata": {},
   "outputs": [
    {
     "name": "stdout",
     "output_type": "stream",
     "text": [
      "enter no10\n",
      "10\n"
     ]
    }
   ],
   "source": [
    "x=int(input(\"enter no\"))\n",
    "print(x)"
   ]
  },
  {
   "cell_type": "code",
   "execution_count": 8,
   "metadata": {},
   "outputs": [
    {
     "name": "stdout",
     "output_type": "stream",
     "text": [
      "enter noten\n"
     ]
    },
    {
     "ename": "ValueError",
     "evalue": "invalid literal for int() with base 10: 'ten'",
     "output_type": "error",
     "traceback": [
      "\u001b[1;31m---------------------------------------------------------------------------\u001b[0m",
      "\u001b[1;31mValueError\u001b[0m                                Traceback (most recent call last)",
      "\u001b[1;32m<ipython-input-8-7ab263269638>\u001b[0m in \u001b[0;36m<module>\u001b[1;34m\u001b[0m\n\u001b[1;32m----> 1\u001b[1;33m \u001b[0mx\u001b[0m\u001b[1;33m=\u001b[0m\u001b[0mint\u001b[0m\u001b[1;33m(\u001b[0m\u001b[0minput\u001b[0m\u001b[1;33m(\u001b[0m\u001b[1;34m\"enter no\"\u001b[0m\u001b[1;33m)\u001b[0m\u001b[1;33m)\u001b[0m\u001b[1;33m\u001b[0m\u001b[1;33m\u001b[0m\u001b[0m\n\u001b[0m\u001b[0;32m      2\u001b[0m \u001b[0mprint\u001b[0m\u001b[1;33m(\u001b[0m\u001b[0mx\u001b[0m\u001b[1;33m)\u001b[0m\u001b[1;33m\u001b[0m\u001b[1;33m\u001b[0m\u001b[0m\n",
      "\u001b[1;31mValueError\u001b[0m: invalid literal for int() with base 10: 'ten'"
     ]
    }
   ],
   "source": [
    "x=int(input(\"enter no\"))\n",
    "print(x)"
   ]
  },
  {
   "cell_type": "code",
   "execution_count": 1,
   "metadata": {},
   "outputs": [
    {
     "name": "stdout",
     "output_type": "stream",
     "text": [
      "enter noten\n",
      "u shouldnot enter string as input ,,,,,,,please enter only nos\n"
     ]
    },
    {
     "ename": "NameError",
     "evalue": "name 'y' is not defined",
     "output_type": "error",
     "traceback": [
      "\u001b[1;31m---------------------------------------------------------------------------\u001b[0m",
      "\u001b[1;31mNameError\u001b[0m                                 Traceback (most recent call last)",
      "\u001b[1;32m<ipython-input-1-81e0acafac3d>\u001b[0m in \u001b[0;36m<module>\u001b[1;34m\u001b[0m\n\u001b[0;32m      3\u001b[0m \u001b[1;32mexcept\u001b[0m \u001b[0mValueError\u001b[0m\u001b[1;33m:\u001b[0m\u001b[1;33m\u001b[0m\u001b[1;33m\u001b[0m\u001b[0m\n\u001b[0;32m      4\u001b[0m     \u001b[0mprint\u001b[0m\u001b[1;33m(\u001b[0m\u001b[1;34m\"u shouldnot enter string as input ,,,,,,,please enter only nos\"\u001b[0m\u001b[1;33m)\u001b[0m\u001b[1;33m\u001b[0m\u001b[1;33m\u001b[0m\u001b[0m\n\u001b[1;32m----> 5\u001b[1;33m \u001b[0mprint\u001b[0m\u001b[1;33m(\u001b[0m\u001b[0my\u001b[0m\u001b[1;33m)\u001b[0m\u001b[1;33m\u001b[0m\u001b[1;33m\u001b[0m\u001b[0m\n\u001b[0m\u001b[0;32m      6\u001b[0m \u001b[1;33m\u001b[0m\u001b[0m\n",
      "\u001b[1;31mNameError\u001b[0m: name 'y' is not defined"
     ]
    }
   ],
   "source": [
    "try:\n",
    "    x=int(input(\"enter no\"))\n",
    "except ValueError:\n",
    "    print(\"u shouldnot enter string as input ,,,,,,,please enter only nos\")\n",
    "print(y)    \n",
    "    \n"
   ]
  },
  {
   "cell_type": "code",
   "execution_count": 4,
   "metadata": {},
   "outputs": [
    {
     "name": "stdout",
     "output_type": "stream",
     "text": [
      "enter noten\n",
      "u shouldnot enter string as input ,,,,,,,please enter only nos\n",
      "y is not defined please define the y with some value\n"
     ]
    }
   ],
   "source": [
    "try:\n",
    "    x=int(input(\"enter no\"))\n",
    "except ValueError:\n",
    "    print(\"u shouldnot enter string as input ,,,,,,,please enter only nos\")\n",
    "try:\n",
    "    \n",
    "    print(y)\n",
    "except NameError:\n",
    "        print(\"y is not defined please define the y with some value\")\n",
    "    "
   ]
  },
  {
   "cell_type": "markdown",
   "metadata": {},
   "source": [
    "### try: with multiple exceptions"
   ]
  },
  {
   "cell_type": "code",
   "execution_count": 6,
   "metadata": {},
   "outputs": [
    {
     "ename": "NameError",
     "evalue": "name 'y' is not defined",
     "output_type": "error",
     "traceback": [
      "\u001b[1;31m---------------------------------------------------------------------------\u001b[0m",
      "\u001b[1;31mNameError\u001b[0m                                 Traceback (most recent call last)",
      "\u001b[1;32m<ipython-input-6-84024747a1cb>\u001b[0m in \u001b[0;36m<module>\u001b[1;34m\u001b[0m\n\u001b[0;32m      1\u001b[0m \u001b[1;32mtry\u001b[0m\u001b[1;33m:\u001b[0m\u001b[1;33m\u001b[0m\u001b[1;33m\u001b[0m\u001b[0m\n\u001b[1;32m----> 2\u001b[1;33m     \u001b[0mprint\u001b[0m\u001b[1;33m(\u001b[0m\u001b[0my\u001b[0m\u001b[1;33m)\u001b[0m\u001b[1;33m\u001b[0m\u001b[1;33m\u001b[0m\u001b[0m\n\u001b[0m\u001b[0;32m      3\u001b[0m     \u001b[0mx\u001b[0m\u001b[1;33m=\u001b[0m\u001b[0mint\u001b[0m\u001b[1;33m(\u001b[0m\u001b[0minput\u001b[0m\u001b[1;33m(\u001b[0m\u001b[1;34m\"enter no\"\u001b[0m\u001b[1;33m)\u001b[0m\u001b[1;33m)\u001b[0m\u001b[1;33m\u001b[0m\u001b[1;33m\u001b[0m\u001b[0m\n\u001b[0;32m      4\u001b[0m \u001b[1;32mexcept\u001b[0m \u001b[0mValueError\u001b[0m\u001b[1;33m:\u001b[0m\u001b[1;33m\u001b[0m\u001b[1;33m\u001b[0m\u001b[0m\n\u001b[0;32m      5\u001b[0m     \u001b[0mprint\u001b[0m\u001b[1;33m(\u001b[0m\u001b[1;34m\"u shouldnot enter string as input ,,,,,,,please enter only nos\"\u001b[0m\u001b[1;33m)\u001b[0m\u001b[1;33m\u001b[0m\u001b[1;33m\u001b[0m\u001b[0m\n",
      "\u001b[1;31mNameError\u001b[0m: name 'y' is not defined"
     ]
    }
   ],
   "source": [
    "try:\n",
    "    print(y)\n",
    "    x=int(input(\"enter no\"))\n",
    "except ValueError:\n",
    "    print(\"u shouldnot enter string as input ,,,,,,,please enter only nos\")\n",
    "try:\n",
    "    \n",
    "    print(y)\n",
    "except NameError:\n",
    "        print(\"y is not defined please define the y with some value\")\n",
    "    "
   ]
  },
  {
   "cell_type": "code",
   "execution_count": null,
   "metadata": {},
   "outputs": [],
   "source": [
    "y=10\n",
    "try:\n",
    "    x=int(input(\"enter no\"))\n",
    "except ValueError:\n",
    "    print(\"u shouldnot enter string as input ,,,,,,,please enter only nos\")\n",
    "try:\n",
    "    \n",
    "    print(y)\n",
    "    except NameError:\n",
    "        print(\"y is not defined please define the y with some value\")\n",
    "    "
   ]
  },
  {
   "cell_type": "code",
   "execution_count": null,
   "metadata": {},
   "outputs": [],
   "source": [
    "try:\n",
    "    a=int(input(\"enter a value:\"))\n",
    "    b=int(input(\"enter b value:\"))\n",
    "    print(a/b)\n",
    "except ArithmeticError:\n",
    "    print(\"AE\")\n",
    "except ZeroDivisionError:\n",
    "    print(\"we shouldnot divide with zero\")"
   ]
  },
  {
   "cell_type": "markdown",
   "metadata": {},
   "source": [
    "# #single except block with multiple errors:"
   ]
  },
  {
   "cell_type": "code",
   "execution_count": null,
   "metadata": {},
   "outputs": [],
   "source": [
    "try:\n",
    "    a=int(input(\"enter a value:\"))\n",
    "    b=int(input(\"enter b value:\"))\n",
    "    print(a/b)\n",
    "except(ZeroDivisionError,ValueError,NameError) as msg:\n",
    "    print(\"we got exception is:\",msg)\n",
    "    "
   ]
  },
  {
   "cell_type": "markdown",
   "metadata": {},
   "source": [
    "### Default Exception:"
   ]
  },
  {
   "cell_type": "code",
   "execution_count": null,
   "metadata": {},
   "outputs": [],
   "source": [
    "syntax:\n",
    "    except:\n",
    "        print(\"Error message.....\")"
   ]
  },
  {
   "cell_type": "code",
   "execution_count": 4,
   "metadata": {},
   "outputs": [
    {
     "name": "stdout",
     "output_type": "stream",
     "text": [
      "enter a value:ten\n",
      "entered values are wrong...please enter only integers\n"
     ]
    }
   ],
   "source": [
    "try:\n",
    "    a=int(input(\"enter a value:\"))\n",
    "    b=int(input(\"enter b value:\"))\n",
    "    print(a/b)\n",
    "except ZeroDivisionError:\n",
    "        print(\"we should not divide with zero...\")\n",
    "except:\n",
    "        print(\"entered values are wrong...please enter only integers\")\n",
    "        "
   ]
  },
  {
   "cell_type": "code",
   "execution_count": null,
   "metadata": {},
   "outputs": [],
   "source": [
    "try:\n",
    "    a=int(input(\"enter a value:\"))\n",
    "    b=int(input(\"enter b value:\"))\n",
    "    print(a/b)\n",
    "    except ZeroDivisionError:\n",
    "        print(\"we should not divide with zero...\")\n",
    "    except ZeroDivisionError:\n",
    "        print(\"entered values are wrong...please enter only integers\")\n",
    "        "
   ]
  },
  {
   "cell_type": "code",
   "execution_count": null,
   "metadata": {},
   "outputs": [],
   "source": [
    "s1=\"hello\"\n",
    "s2=\"bye\"\n",
    "try:\n",
    "    print(s1/2)\n",
    "except TypeError:\n",
    "    print(\"we should not divide string with no or division is not allowed for string\")\n",
    "    "
   ]
  },
  {
   "cell_type": "code",
   "execution_count": null,
   "metadata": {},
   "outputs": [],
   "source": [
    "s1=\"hello\"\n",
    "s2=\"bye\"\n",
    "try:\n",
    "    print(s1/2)\n",
    "except TypeError:\n",
    "    print(\"we should not divide string with no or division is not allowed for string\")\n",
    "    "
   ]
  },
  {
   "cell_type": "code",
   "execution_count": null,
   "metadata": {},
   "outputs": [],
   "source": [
    "try:\n",
    "    a=int(input(\"enter a value:\"))\n",
    "    b=int(input(\"enter b value:\"))\n",
    "    print(a/b)\n",
    "    except ZeroDivisionError:\n",
    "        print(\"we should not divide with zero...\")\n",
    "    except:\n",
    "        print(\"entered values are wrong...please enter only integers\")\n",
    "    finally:\n",
    "        print(\"executed\")\n",
    "        \n",
    "        \n",
    "        \n",
    "        \n",
    "        \n",
    "        \n",
    "        \n",
    "        \n",
    "        \n",
    "         \n",
    "        \n",
    "        \n",
    "        \n",
    "        \n",
    "        \n",
    "        \n",
    "        \n",
    "        \n",
    "        \n",
    "        \n",
    "        \n",
    "        \n",
    "        \n",
    "        \n",
    "        \n",
    "        \n",
    "        \n",
    "        \n",
    "        \n",
    "        \n",
    "        \n",
    "        \n",
    "        \n",
    "        \n",
    "        \n",
    "        \n",
    "        \n",
    "        \n",
    "        \n",
    "        \n",
    "        \n",
    "        \n",
    "        \n",
    "        \n",
    "        \n",
    "        \n",
    "        \n",
    "        "
   ]
  },
  {
   "cell_type": "markdown",
   "metadata": {},
   "source": [
    "# types of variables"
   ]
  },
  {
   "cell_type": "code",
   "execution_count": null,
   "metadata": {},
   "outputs": [],
   "source": [
    "1.Instance varaibles[object level varaibles]\n",
    "2.Static varaibles[class level varaibles]\n",
    "3.Local varaibles[method level varaibles]"
   ]
  },
  {
   "cell_type": "markdown",
   "metadata": {},
   "source": [
    "### 1.Instance variables:"
   ]
  },
  {
   "cell_type": "code",
   "execution_count": null,
   "metadata": {},
   "outputs": [],
   "source": [
    "If the value of varaible varied from object to object\n",
    "note:for every object a seperate copy of instance varaible will be created"
   ]
  },
  {
   "cell_type": "markdown",
   "metadata": {},
   "source": [
    "#### where we can declare instance varaibles:"
   ]
  },
  {
   "cell_type": "markdown",
   "metadata": {},
   "source": [
    "1.inside constructor with help of self varaible\n",
    "2.inside instance method with self varaible:when we call the method then it executes\n",
    "3.outside of the class with object reference varaible"
   ]
  },
  {
   "cell_type": "code",
   "execution_count": null,
   "metadata": {},
   "outputs": [],
   "source": []
  },
  {
   "cell_type": "code",
   "execution_count": null,
   "metadata": {},
   "outputs": [],
   "source": [
    "class Student:\n",
    "    def __init__(self):\n",
    "        self.name=\"divyasri\"\n",
    "        self.marks=100"
   ]
  },
  {
   "cell_type": "code",
   "execution_count": null,
   "metadata": {},
   "outputs": [],
   "source": [
    "class Student:\n",
    "    def __init__(self):\n",
    "        self.name=\"divyasri\"\n",
    "        self.marks=100\n",
    "    def m1(self): #m1=instance method which must contain one argument i.e,self varaible.\n",
    "        self.id=85\n",
    "    "
   ]
  },
  {
   "cell_type": "code",
   "execution_count": 1,
   "metadata": {},
   "outputs": [],
   "source": [
    "class Student:\n",
    "    def __init__(self):\n",
    "        self.name=\"divyasri\"\n",
    "        self.marks=100\n",
    "    def m1(self):\n",
    "        self.id=85\n",
    "x=Student()#x=object reference varaible\n",
    "x.age=22"
   ]
  },
  {
   "cell_type": "code",
   "execution_count": 7,
   "metadata": {},
   "outputs": [
    {
     "name": "stdout",
     "output_type": "stream",
     "text": [
      "{'name': 'divyasri', 'marks': 100, 'age': 22, 'id': 85}\n"
     ]
    }
   ],
   "source": [
    "#example pgm\n",
    "class Student:\n",
    "    #inside constructor\n",
    "    def __init__(self):\n",
    "        self.name=\"divyasri\"\n",
    "        self.marks=100\n",
    "     #inside instance method   \n",
    "    def m1(self):\n",
    "        self.id=85\n",
    "#outside of the class        \n",
    "x=Student()#object reference varaible creation #x=object reference varaible\n",
    "x.age=22 #creating instance varaible with object reference variable\n",
    "x.m1()\n",
    "print(x.__dict__)"
   ]
  },
  {
   "cell_type": "markdown",
   "metadata": {},
   "source": [
    "## How to access instance varaibles"
   ]
  },
  {
   "cell_type": "code",
   "execution_count": null,
   "metadata": {},
   "outputs": [],
   "source": [
    "we can access instance variables within the class by using self variable,outside of the class with object reference varaible"
   ]
  },
  {
   "cell_type": "code",
   "execution_count": 8,
   "metadata": {},
   "outputs": [
    {
     "name": "stdout",
     "output_type": "stream",
     "text": [
      "divyasri\n",
      "100\n",
      "divyasri 100\n"
     ]
    }
   ],
   "source": [
    "class Student:\n",
    "    def __init__(self):\n",
    "        self.name=\"divyasri\"\n",
    "        self.marks=100\n",
    "    def m1(self):\n",
    "        print(self.name)\n",
    "        print(self.marks)\n",
    "x=Student()\n",
    "x.m1()\n",
    "print(x.name,x.marks)"
   ]
  },
  {
   "cell_type": "markdown",
   "metadata": {},
   "source": [
    "## how to delete instance varaible from the object"
   ]
  },
  {
   "cell_type": "code",
   "execution_count": null,
   "metadata": {},
   "outputs": [],
   "source": [
    "1.within the class we can delete instance variables with self\n",
    "example:del self.varaibleName\n",
    "2.from outside of the class we can delete instance varaible eith object reference varaible\n",
    "example:del objectreferencevaraible.varaiblename"
   ]
  },
  {
   "cell_type": "code",
   "execution_count": 1,
   "metadata": {},
   "outputs": [
    {
     "name": "stdout",
     "output_type": "stream",
     "text": [
      "{'marks': 100}\n"
     ]
    }
   ],
   "source": [
    "#eg pgm to delete instance varaibles inside class\n",
    "class student:\n",
    "    def __init__(self):\n",
    "        self.name=\"divya\"\n",
    "        self.marks=100\n",
    "        \n",
    "    def m1(self):\n",
    "        del self.name\n",
    "x=student()\n",
    "x.m1()\n",
    "print(x.__dict__)"
   ]
  },
  {
   "cell_type": "code",
   "execution_count": 15,
   "metadata": {},
   "outputs": [
    {
     "name": "stdout",
     "output_type": "stream",
     "text": [
      "{'marks': 100}\n"
     ]
    }
   ],
   "source": [
    "\n",
    " \n",
    "#eg pgm to delete instance varaibles outside class\n",
    "class Student:\n",
    "    def __init__(self):\n",
    "        \n",
    "        self.name=\"divya\"\n",
    "        self.marks=100\n",
    "x=Student()\n",
    "del x.name\n",
    "print(x.__dict__)"
   ]
  },
  {
   "cell_type": "markdown",
   "metadata": {},
   "source": [
    "### 2.Static variable"
   ]
  },
  {
   "cell_type": "code",
   "execution_count": null,
   "metadata": {},
   "outputs": [],
   "source": [
    "if the value of variable not varied from object to object is called static variable.\n",
    "we should \n",
    "for only one copy of static varaible willbe created and shared with all object of class."
   ]
  },
  {
   "cell_type": "code",
   "execution_count": 1,
   "metadata": {},
   "outputs": [
    {
     "name": "stdout",
     "output_type": "stream",
     "text": [
      "static variable x value is : 10\n",
      "instance varaible y value is: 20\n"
     ]
    }
   ],
   "source": [
    "#eg pgm to create static variable\n",
    "class Test:\n",
    "    x=10\n",
    "    def __init__(self):\n",
    "        self.y=20\n",
    "t1=Test()\n",
    "print(\"static variable x value is :\",t1.x)\n",
    "print(\"instance varaible y value is:\",t1.y)\n"
   ]
  },
  {
   "cell_type": "code",
   "execution_count": 3,
   "metadata": {},
   "outputs": [
    {
     "name": "stdout",
     "output_type": "stream",
     "text": [
      "before modification of values:\n",
      "static variable x value is : 10\n",
      "instance varaible y value is: 20\n",
      "before modification of values:\n",
      "static variable x value is : 999\n",
      "instance varaible y value is: 888\n",
      "before modification values of t2:\n",
      "static variable x value is : 999\n",
      "instance varaible y value is: 20\n"
     ]
    }
   ],
   "source": [
    "#eg pgm to create static variable\n",
    "class Test:\n",
    "    x=10 #static variable\n",
    "    def __init__(self):\n",
    "        self.y=20 #instance variable\n",
    "t1=Test()\n",
    "t2=Test()\n",
    "print(\"before modification of values:\")\n",
    "print(\"static variable x value is :\",t1.x)\n",
    "print(\"instance varaible y value is:\",t1.y)\n",
    "Test.x=999\n",
    "t1.y=888\n",
    "print(\"before modification of values:\")\n",
    "print(\"static variable x value is :\",t1.x)\n",
    "print(\"instance varaible y value is:\",t1.y)\n",
    "print(\"before modification values of t2:\")\n",
    "print(\"static variable x value is :\",t2.x)\n",
    "print(\"instance varaible y value is:\",t2.y)"
   ]
  },
  {
   "cell_type": "markdown",
   "metadata": {},
   "source": [
    "### various places to declare the static variable:"
   ]
  },
  {
   "cell_type": "code",
   "execution_count": null,
   "metadata": {},
   "outputs": [],
   "source": [
    "1.in general we can declare within the class but outside of the methods\n",
    "2.inside constructor by using class name\n",
    "3.inside instance method by using class name\n",
    "4.inside classmethod by using class name or class varaible\n",
    "5.inside static method by using class name\n"
   ]
  },
  {
   "cell_type": "code",
   "execution_count": 6,
   "metadata": {},
   "outputs": [
    {
     "name": "stdout",
     "output_type": "stream",
     "text": [
      "{'__module__': '__main__', 'a': 10, '__init__': <function Test.__init__ at 0x000001DBA16144C8>, 'm1': <function Test.m1 at 0x000001DBA1614558>, 'm2': <classmethod object at 0x000001DBA161E908>, 'm3': <staticmethod object at 0x000001DBA161EE08>, '__dict__': <attribute '__dict__' of 'Test' objects>, '__weakref__': <attribute '__weakref__' of 'Test' objects>, '__doc__': None}\n",
      "{'__module__': '__main__', 'a': 10, '__init__': <function Test.__init__ at 0x000001DBA16144C8>, 'm1': <function Test.m1 at 0x000001DBA1614558>, 'm2': <classmethod object at 0x000001DBA161E908>, 'm3': <staticmethod object at 0x000001DBA161EE08>, '__dict__': <attribute '__dict__' of 'Test' objects>, '__weakref__': <attribute '__weakref__' of 'Test' objects>, '__doc__': None, 'b': 20}\n",
      "{'__module__': '__main__', 'a': 10, '__init__': <function Test.__init__ at 0x000001DBA16144C8>, 'm1': <function Test.m1 at 0x000001DBA1614558>, 'm2': <classmethod object at 0x000001DBA161E908>, 'm3': <staticmethod object at 0x000001DBA161EE08>, '__dict__': <attribute '__dict__' of 'Test' objects>, '__weakref__': <attribute '__weakref__' of 'Test' objects>, '__doc__': None, 'b': 20, 'c': 30}\n",
      "{'__module__': '__main__', 'a': 10, '__init__': <function Test.__init__ at 0x000001DBA16144C8>, 'm1': <function Test.m1 at 0x000001DBA1614558>, 'm2': <classmethod object at 0x000001DBA161E908>, 'm3': <staticmethod object at 0x000001DBA161EE08>, '__dict__': <attribute '__dict__' of 'Test' objects>, '__weakref__': <attribute '__weakref__' of 'Test' objects>, '__doc__': None, 'b': 20, 'c': 30, 'd': 40, 'e': 50}\n",
      "{'__module__': '__main__', 'a': 10, '__init__': <function Test.__init__ at 0x000001DBA16144C8>, 'm1': <function Test.m1 at 0x000001DBA1614558>, 'm2': <classmethod object at 0x000001DBA161E908>, 'm3': <staticmethod object at 0x000001DBA161EE08>, '__dict__': <attribute '__dict__' of 'Test' objects>, '__weakref__': <attribute '__weakref__' of 'Test' objects>, '__doc__': None, 'b': 20, 'c': 30, 'd': 40, 'e': 50, 'f': 60}\n"
     ]
    }
   ],
   "source": [
    "#eg pgm to declare static variable in various places\n",
    "class Test:\n",
    "    a=10\n",
    "    def __init__(self):\n",
    "        Test.b=20\n",
    "    def m1(self):\n",
    "        Test.c=30\n",
    "    @classmethod #decorator\n",
    "    def m2(cls):\n",
    "        cls.d=40\n",
    "        Test.e=50\n",
    "    @staticmethod #decorator\n",
    "    def m3():\n",
    "        Test.f=60\n",
    "print(Test.__dict__)\n",
    "t1=Test()\n",
    "print(Test.__dict__)\n",
    "t1.m1()\n",
    "print(Test.__dict__)\n",
    "Test.m2()\n",
    "print(Test.__dict__)\n",
    "Test.m3()\n",
    "print(Test.__dict__)\n",
    "        "
   ]
  },
  {
   "cell_type": "code",
   "execution_count": 7,
   "metadata": {},
   "outputs": [
    {
     "name": "stdout",
     "output_type": "stream",
     "text": [
      "{'__module__': '__main__', 'a': 10, '__init__': <function Test.__init__ at 0x000001DBA1614828>, 'm1': <function Test.m1 at 0x000001DBA1614798>, 'm2': <classmethod object at 0x000001DBA161A8C8>, 'm3': <staticmethod object at 0x000001DBA161AB48>, '__dict__': <attribute '__dict__' of 'Test' objects>, '__weakref__': <attribute '__weakref__' of 'Test' objects>, '__doc__': None}\n",
      "{'__module__': '__main__', 'a': 10, '__init__': <function Test.__init__ at 0x000001DBA1614828>, 'm1': <function Test.m1 at 0x000001DBA1614798>, 'm2': <classmethod object at 0x000001DBA161A8C8>, 'm3': <staticmethod object at 0x000001DBA161AB48>, '__dict__': <attribute '__dict__' of 'Test' objects>, '__weakref__': <attribute '__weakref__' of 'Test' objects>, '__doc__': None, 'b': 20}\n",
      "{'__module__': '__main__', 'a': 10, '__init__': <function Test.__init__ at 0x000001DBA1614828>, 'm1': <function Test.m1 at 0x000001DBA1614798>, 'm2': <classmethod object at 0x000001DBA161A8C8>, 'm3': <staticmethod object at 0x000001DBA161AB48>, '__dict__': <attribute '__dict__' of 'Test' objects>, '__weakref__': <attribute '__weakref__' of 'Test' objects>, '__doc__': None, 'b': 20, 'c': 30}\n",
      "{'__module__': '__main__', 'a': 10, '__init__': <function Test.__init__ at 0x000001DBA1614828>, 'm1': <function Test.m1 at 0x000001DBA1614798>, 'm2': <classmethod object at 0x000001DBA161A8C8>, 'm3': <staticmethod object at 0x000001DBA161AB48>, '__dict__': <attribute '__dict__' of 'Test' objects>, '__weakref__': <attribute '__weakref__' of 'Test' objects>, '__doc__': None, 'b': 20, 'c': 30, 'd': 40, 'e': 50}\n",
      "{'__module__': '__main__', 'a': 10, '__init__': <function Test.__init__ at 0x000001DBA1614828>, 'm1': <function Test.m1 at 0x000001DBA1614798>, 'm2': <classmethod object at 0x000001DBA161A8C8>, 'm3': <staticmethod object at 0x000001DBA161AB48>, '__dict__': <attribute '__dict__' of 'Test' objects>, '__weakref__': <attribute '__weakref__' of 'Test' objects>, '__doc__': None, 'b': 20, 'c': 30, 'd': 40, 'e': 50, 'f': 60}\n",
      "{'__module__': '__main__', 'a': 10, '__init__': <function Test.__init__ at 0x000001DBA1614828>, 'm1': <function Test.m1 at 0x000001DBA1614798>, 'm2': <classmethod object at 0x000001DBA161A8C8>, 'm3': <staticmethod object at 0x000001DBA161AB48>, '__dict__': <attribute '__dict__' of 'Test' objects>, '__weakref__': <attribute '__weakref__' of 'Test' objects>, '__doc__': None, 'b': 20, 'c': 30, 'd': 40, 'e': 50, 'f': 90}\n"
     ]
    }
   ],
   "source": [
    "#eg pgm to declare static variable in various places\n",
    "class Test:\n",
    "    a=10\n",
    "    def __init__(self):\n",
    "        Test.b=20\n",
    "    def m1(self):\n",
    "        Test.c=30\n",
    "    @classmethod #decorator\n",
    "    def m2(cls):\n",
    "        cls.d=40\n",
    "        Test.e=50\n",
    "    @staticmethod #decorator\n",
    "    def m3():\n",
    "        Test.f=60\n",
    "print(Test.__dict__)\n",
    "t1=Test()\n",
    "print(Test.__dict__)\n",
    "t1.m1()\n",
    "print(Test.__dict__)\n",
    "Test.m2()\n",
    "print(Test.__dict__)\n",
    "Test.m3()\n",
    "print(Test.__dict__)\n",
    "Test.f=90\n",
    "print(Test.__dict__)\n",
    "        "
   ]
  },
  {
   "cell_type": "markdown",
   "metadata": {},
   "source": [
    "### accessing of static variables:"
   ]
  },
  {
   "cell_type": "code",
   "execution_count": 8,
   "metadata": {},
   "outputs": [
    {
     "ename": "SyntaxError",
     "evalue": "invalid syntax (<ipython-input-8-c1d66cabfa14>, line 1)",
     "output_type": "error",
     "traceback": [
      "\u001b[1;36m  File \u001b[1;32m\"<ipython-input-8-c1d66cabfa14>\"\u001b[1;36m, line \u001b[1;32m1\u001b[0m\n\u001b[1;33m    1.inside constructor: by using either with self or class name\u001b[0m\n\u001b[1;37m           ^\u001b[0m\n\u001b[1;31mSyntaxError\u001b[0m\u001b[1;31m:\u001b[0m invalid syntax\n"
     ]
    }
   ],
   "source": [
    "1.inside constructor: by using either with self or class name\n",
    "2.inside instance method:using self or classname    \n",
    "3.inside class method:by using class name or class varaible.\n",
    "4.inside staticmethod:by using classname\n",
    "5.from outside of the class:by using object refernce varaible or classname\n",
    "    \n",
    "    "
   ]
  },
  {
   "cell_type": "code",
   "execution_count": 11,
   "metadata": {},
   "outputs": [
    {
     "name": "stdout",
     "output_type": "stream",
     "text": [
      "constructor static varaible with classname: 20\n",
      "constructor staticvariable with self: 20\n",
      "from ouytside of the class with class name: 10\n",
      "instancemethod static varaible with class name: 30\n",
      "instancemethod static varaible with self: 30\n",
      "class method static varaible with class name: 40\n",
      "class method static varaible with class variable: 40\n",
      "static method static variable with class name: 60\n"
     ]
    }
   ],
   "source": [
    "class Test:\n",
    "    a=10\n",
    "    def __init__(self):\n",
    "        Test.b=20\n",
    "        print(\"constructor static varaible with classname:\",Test.b)\n",
    "        print(\"constructor staticvariable with self:\",self.b)\n",
    "    def m1(self):\n",
    "        Test.c=30\n",
    "        print(\"instancemethod static varaible with class name:\",Test.c)\n",
    "        print(\"instancemethod static varaible with self:\",Test.c)\n",
    "        \n",
    "    @classmethod #decorator\n",
    "    def m2(cls):\n",
    "        cls.d=40\n",
    "        Test.e=50\n",
    "        print(\"class method static varaible with class name:\",Test.d)\n",
    "        print(\"class method static varaible with class variable:\",cls.d)\n",
    "    @staticmethod #decorator\n",
    "    def m3():\n",
    "        Test.f=60\n",
    "        print(\"static method static variable with class name:\",Test.f)\n",
    "t=Test()\n",
    "print(\"from outside of the class with class name:\",Test.a)\n",
    "t.m1()\n",
    "t.m2()\n",
    "t.m3()\n",
    "        "
   ]
  },
  {
   "cell_type": "markdown",
   "metadata": {},
   "source": [
    "### modifying the value of static variable:"
   ]
  },
  {
   "cell_type": "code",
   "execution_count": null,
   "metadata": {},
   "outputs": [],
   "source": [
    "Anywhere we can modify the values of static variables by using class name\n",
    "but inside class method with class variable"
   ]
  },
  {
   "cell_type": "code",
   "execution_count": 13,
   "metadata": {},
   "outputs": [
    {
     "name": "stdout",
     "output_type": "stream",
     "text": [
      "10\n",
      "888\n",
      "999\n"
     ]
    }
   ],
   "source": [
    "class Test:\n",
    "    a=10\n",
    "    @classmethod\n",
    "    def m1(cls):\n",
    "        cls.a=888\n",
    "    @staticmethod\n",
    "    def m2():\n",
    "        Test.a=999\n",
    "print(Test.a)\n",
    "Test.m1()\n",
    "print(Test.a)\n",
    "Test.m2()\n",
    "print(Test.a)\n",
    "        "
   ]
  },
  {
   "cell_type": "code",
   "execution_count": 14,
   "metadata": {},
   "outputs": [
    {
     "name": "stdout",
     "output_type": "stream",
     "text": [
      "10\n",
      "class method execution\n",
      "10\n",
      "static method execution\n",
      "10\n"
     ]
    }
   ],
   "source": [
    "#if u will not modify the value of static variable\n",
    "class Test:\n",
    "    a=10\n",
    "    @classmethod\n",
    "    def m1(cls):\n",
    "        a=888\n",
    "        print(\"class method execution\")\n",
    "    @staticmethod\n",
    "    def m2():\n",
    "        a=999\n",
    "        print(\"static method execution\")\n",
    "print(Test.a)\n",
    "Test.m1()\n",
    "print(Test.a)\n",
    "Test.m2()\n",
    "print(Test.a)\n",
    "        "
   ]
  },
  {
   "cell_type": "markdown",
   "metadata": {},
   "source": [
    "### Deleting of static varaible"
   ]
  },
  {
   "cell_type": "code",
   "execution_count": null,
   "metadata": {},
   "outputs": [],
   "source": [
    "from anywhere we can use classname to delete\n",
    "from inside of class method we can also cls varaible\n"
   ]
  },
  {
   "cell_type": "code",
   "execution_count": 15,
   "metadata": {},
   "outputs": [
    {
     "name": "stdout",
     "output_type": "stream",
     "text": [
      "{'__module__': '__main__', 'm1': <classmethod object at 0x000001DBA16B66C8>, '__dict__': <attribute '__dict__' of 'Test' objects>, '__weakref__': <attribute '__weakref__' of 'Test' objects>, '__doc__': None}\n"
     ]
    }
   ],
   "source": [
    "class Test:\n",
    "    a=10\n",
    "    @classmethod\n",
    "    def m1(cls):\n",
    "        del cls.a\n",
    "Test.m1()\n",
    "print(Test.__dict__)"
   ]
  },
  {
   "cell_type": "code",
   "execution_count": null,
   "metadata": {},
   "outputs": [],
   "source": [
    "class Test:\n",
    "    a=10\n",
    "    @classmethod\n",
    "    def m1(cls):\n",
    "        del Test.a\n",
    "Test.m1()\n",
    "print(Test.__dict__)"
   ]
  },
  {
   "cell_type": "code",
   "execution_count": 1,
   "metadata": {},
   "outputs": [
    {
     "name": "stdout",
     "output_type": "stream",
     "text": [
      "{'__module__': '__main__', 'b': 20, 'c': 30, 'm1': <classmethod object at 0x000002A7583E5AC8>, 'm2': <staticmethod object at 0x000002A7583E5B88>, '__dict__': <attribute '__dict__' of 'Test' objects>, '__weakref__': <attribute '__weakref__' of 'Test' objects>, '__doc__': None}\n",
      "{'__module__': '__main__', 'c': 30, 'm1': <classmethod object at 0x000002A7583E5AC8>, 'm2': <staticmethod object at 0x000002A7583E5B88>, '__dict__': <attribute '__dict__' of 'Test' objects>, '__weakref__': <attribute '__weakref__' of 'Test' objects>, '__doc__': None}\n"
     ]
    }
   ],
   "source": [
    "class Test:\n",
    "    a=10\n",
    "    b=20\n",
    "    c=30\n",
    "    @classmethod\n",
    "    def m1(cls):\n",
    "        del cls.a\n",
    "    @staticmethod\n",
    "    def m2():\n",
    "        del Test.b\n",
    "Test.m1()\n",
    "print(Test.__dict__)\n",
    "Test.m2()\n",
    "print(Test.__dict__)"
   ]
  },
  {
   "cell_type": "code",
   "execution_count": null,
   "metadata": {},
   "outputs": [],
   "source": [
    "num=3\n",
    "while True:\n",
    "    if(num%0o12==0):\n",
    "        break\n",
    "num+=1\n",
    "print(num)\n"
   ]
  },
  {
   "cell_type": "code",
   "execution_count": 1,
   "metadata": {},
   "outputs": [
    {
     "ename": "SyntaxError",
     "evalue": "invalid syntax (<ipython-input-1-777f21ad2b17>, line 4)",
     "output_type": "error",
     "traceback": [
      "\u001b[1;36m  File \u001b[1;32m\"<ipython-input-1-777f21ad2b17>\"\u001b[1;36m, line \u001b[1;32m4\u001b[0m\n\u001b[1;33m    def __init__(self,name.balance=0):\u001b[0m\n\u001b[1;37m                          ^\u001b[0m\n\u001b[1;31mSyntaxError\u001b[0m\u001b[1;31m:\u001b[0m invalid syntax\n"
     ]
    }
   ],
   "source": [
    "import sys\n",
    "class Customer:\n",
    "    bankname=\"IOBI BANK\"\n",
    "    def __init__(self,name.balance=0):\n",
    "        self.name=name\n",
    "        self.balance=balance\n",
    "    def deposit(self,amnt):\n",
    "        self.balance=self.balance+amnt\n",
    "        print(\"ur total balance is :\",self.balance)\n",
    "    def withdraw(self,amnt):\n",
    "        if amnt>self.balance:\n",
    "            print(\"insufficient funds in ur account....\")\n",
    "            sys.exit()\n",
    "        self.balance=self.balance-amnt\n",
    "        print(\"ur account balance after withdraw the amount....\",self.balance)\n",
    "print(\"welcome to\",Customer.bankname)\n",
    "name=input(\"enter ur name:\")\n",
    "c=Customer(name)\n",
    "while True:\n",
    "    print(\"D-Deposit \\n W-Withdraw \\n E-Exit\")\n",
    "    option=\"d\" or option=\"\"\n",
    "        "
   ]
  },
  {
   "cell_type": "markdown",
   "metadata": {},
   "source": [
    "### 3.Local Variables:"
   ]
  },
  {
   "cell_type": "code",
   "execution_count": null,
   "metadata": {},
   "outputs": [],
   "source": [
    "local varaiables are creaed at the time of method execution\n",
    "these are temporary varaibles"
   ]
  },
  {
   "cell_type": "code",
   "execution_count": 3,
   "metadata": {},
   "outputs": [
    {
     "name": "stdout",
     "output_type": "stream",
     "text": [
      "100\n",
      "200\n"
     ]
    }
   ],
   "source": [
    "#example pgm\n",
    "class Test:\n",
    "    def m1(self):\n",
    "        a=100\n",
    "        print(a)\n",
    "    def m2(self):\n",
    "        b=200\n",
    "        print(b)\n",
    "t=Test()\n",
    "t.m1()\n",
    "t.m2()\n",
    "        "
   ]
  },
  {
   "cell_type": "code",
   "execution_count": 4,
   "metadata": {},
   "outputs": [
    {
     "name": "stdout",
     "output_type": "stream",
     "text": [
      "100\n"
     ]
    },
    {
     "ename": "NameError",
     "evalue": "name 'a' is not defined",
     "output_type": "error",
     "traceback": [
      "\u001b[1;31m---------------------------------------------------------------------------\u001b[0m",
      "\u001b[1;31mNameError\u001b[0m                                 Traceback (most recent call last)",
      "\u001b[1;32m<ipython-input-4-e70817beffb0>\u001b[0m in \u001b[0;36m<module>\u001b[1;34m\u001b[0m\n\u001b[0;32m      9\u001b[0m \u001b[0mt\u001b[0m\u001b[1;33m=\u001b[0m\u001b[0mTest\u001b[0m\u001b[1;33m(\u001b[0m\u001b[1;33m)\u001b[0m\u001b[1;33m\u001b[0m\u001b[1;33m\u001b[0m\u001b[0m\n\u001b[0;32m     10\u001b[0m \u001b[0mt\u001b[0m\u001b[1;33m.\u001b[0m\u001b[0mm1\u001b[0m\u001b[1;33m(\u001b[0m\u001b[1;33m)\u001b[0m\u001b[1;33m\u001b[0m\u001b[1;33m\u001b[0m\u001b[0m\n\u001b[1;32m---> 11\u001b[1;33m \u001b[0mt\u001b[0m\u001b[1;33m.\u001b[0m\u001b[0mm2\u001b[0m\u001b[1;33m(\u001b[0m\u001b[1;33m)\u001b[0m\u001b[1;33m\u001b[0m\u001b[1;33m\u001b[0m\u001b[0m\n\u001b[0m",
      "\u001b[1;32m<ipython-input-4-e70817beffb0>\u001b[0m in \u001b[0;36mm2\u001b[1;34m(self)\u001b[0m\n\u001b[0;32m      5\u001b[0m     \u001b[1;32mdef\u001b[0m \u001b[0mm2\u001b[0m\u001b[1;33m(\u001b[0m\u001b[0mself\u001b[0m\u001b[1;33m)\u001b[0m\u001b[1;33m:\u001b[0m\u001b[1;33m\u001b[0m\u001b[1;33m\u001b[0m\u001b[0m\n\u001b[0;32m      6\u001b[0m         \u001b[0mb\u001b[0m\u001b[1;33m=\u001b[0m\u001b[1;36m200\u001b[0m\u001b[1;33m\u001b[0m\u001b[1;33m\u001b[0m\u001b[0m\n\u001b[1;32m----> 7\u001b[1;33m         \u001b[0mprint\u001b[0m\u001b[1;33m(\u001b[0m\u001b[0ma\u001b[0m\u001b[1;33m)\u001b[0m\u001b[1;33m\u001b[0m\u001b[1;33m\u001b[0m\u001b[0m\n\u001b[0m\u001b[0;32m      8\u001b[0m         \u001b[0mprint\u001b[0m\u001b[1;33m(\u001b[0m\u001b[0mb\u001b[0m\u001b[1;33m)\u001b[0m\u001b[1;33m\u001b[0m\u001b[1;33m\u001b[0m\u001b[0m\n\u001b[0;32m      9\u001b[0m \u001b[0mt\u001b[0m\u001b[1;33m=\u001b[0m\u001b[0mTest\u001b[0m\u001b[1;33m(\u001b[0m\u001b[1;33m)\u001b[0m\u001b[1;33m\u001b[0m\u001b[1;33m\u001b[0m\u001b[0m\n",
      "\u001b[1;31mNameError\u001b[0m: name 'a' is not defined"
     ]
    }
   ],
   "source": [
    "class Test:\n",
    "    def m1(self):\n",
    "        a=100\n",
    "        print(a)\n",
    "    def m2(self):\n",
    "        b=200\n",
    "        print(a)\n",
    "        print(b)\n",
    "t=Test()\n",
    "t.m1()\n",
    "t.m2()"
   ]
  },
  {
   "cell_type": "markdown",
   "metadata": {},
   "source": [
    "## types of methods:"
   ]
  },
  {
   "cell_type": "code",
   "execution_count": null,
   "metadata": {},
   "outputs": [],
   "source": [
    "1.Instance Method\n",
    "2.Class Methods\n",
    "3.Static methods"
   ]
  },
  {
   "cell_type": "markdown",
   "metadata": {},
   "source": [
    "### 1.Instance method"
   ]
  },
  {
   "cell_type": "code",
   "execution_count": null,
   "metadata": {},
   "outputs": [],
   "source": [
    "inside a method implementation if we are using instance variables is called as instance method\n",
    "\n",
    "syntax:\n",
    "    def methodname(self):\n",
    "        -----------------\n",
    "        -----------------\n",
    "        -----------------\n",
    "        \n",
    "by using self variable inside method we can able to access the instance variables from outside of the method,class\n"
   ]
  },
  {
   "cell_type": "code",
   "execution_count": null,
   "metadata": {},
   "outputs": [],
   "source": [
    "#example pgm for instance method\n",
    "class Student:\n",
    "    def __init__(self,name,marks): #if we want to give user  defined values then we have to declare in the constructor\n",
    "        self.name=name\n",
    "        self.marks=marks\n",
    "    def display(self):\n",
    "        print(\"ur name is:\",self.name)\n",
    "        print(\"ur marks are:\",self.marks)\n",
    "    def grade(self):\n",
    "        if self.marks>=60:\n",
    "            print(\"u got A grade\")\n",
    "        elif self.marks>40 and self.marks<60:\n",
    "            print(\"u got B grade\")\n",
    "        else:\n",
    "            print(\"fail\")\n",
    "n=int(input(\"enter no.of students:\"))\n",
    "for i in range(n):\n",
    "    name=input(\"enter name\")\n",
    "    marks=int(input(\"enter marks:\"))\n",
    "    s=Student(name,marks)\n",
    "    s.display()\n",
    "    s.grade()\n",
    "    print()\n",
    "            "
   ]
  },
  {
   "cell_type": "markdown",
   "metadata": {},
   "source": [
    "## Setter and Getter methods"
   ]
  },
  {
   "cell_type": "markdown",
   "metadata": {},
   "source": [
    "### setter methods"
   ]
  },
  {
   "cell_type": "code",
   "execution_count": null,
   "metadata": {},
   "outputs": [],
   "source": [
    "setter methods can be used to set the values of instance variables.\n",
    "setter methods are also known as mutator methods.\n",
    "\n",
    "syntax:\n",
    "    def setvariable(self,variable):\n",
    "        \n",
    "        self variable=variable"
   ]
  },
  {
   "cell_type": "code",
   "execution_count": 1,
   "metadata": {},
   "outputs": [],
   "source": [
    "#example pgm\n",
    "def setname(self,name):\n",
    "    self.name=name\n"
   ]
  },
  {
   "cell_type": "markdown",
   "metadata": {},
   "source": [
    "### Getter methods"
   ]
  },
  {
   "cell_type": "code",
   "execution_count": null,
   "metadata": {},
   "outputs": [],
   "source": [
    "Getter methods can be used to get the values of instance variables.\n",
    "Getter methods are also known as accessor methods.\n",
    "\n",
    "syntax:\n",
    "    def getvariable(self):\n",
    "        return self.variable\n",
    "        \n",
    "        "
   ]
  },
  {
   "cell_type": "code",
   "execution_count": 2,
   "metadata": {},
   "outputs": [],
   "source": [
    "#example pgm\n",
    "def getname(self):\n",
    "        return self.name\n",
    "        "
   ]
  },
  {
   "cell_type": "code",
   "execution_count": 3,
   "metadata": {},
   "outputs": [
    {
     "name": "stdout",
     "output_type": "stream",
     "text": [
      "enter no.of students......3\n",
      "enter name:divya\n",
      "enter marks....100\n",
      "hi divya\n",
      "ur marks are: 100\n",
      "\n",
      "enter name:sravya\n",
      "enter marks....100\n",
      "hi sravya\n",
      "ur marks are: 100\n",
      "\n",
      "enter name:rohit\n",
      "enter marks....100\n",
      "hi rohit\n",
      "ur marks are: 100\n",
      "\n"
     ]
    }
   ],
   "source": [
    "#example pgm to understand setter and getter methods:\n",
    "class student:\n",
    "    def setname(self,name): #mutator\n",
    "        self.name=name\n",
    "    def getname(self): #accessor\n",
    "        return self.name\n",
    "    def setmarks(self,marks):\n",
    "        self.marks=marks\n",
    "    def getmarks(self):\n",
    "        return self.marks\n",
    "n=int(input(\"enter no.of students......\"))\n",
    "for i in range(n):\n",
    "    s=student() #object reference variable\n",
    "    name=input(\"enter name:\")\n",
    "    s.setname(name)\n",
    "    marks=int(input(\"enter marks....\"))\n",
    "    s.setmarks(marks)\n",
    "    print(\"hi\",s.getname())\n",
    "    print(\"ur marks are:\",s.getmarks())\n",
    "    print()\n",
    "    \n"
   ]
  },
  {
   "cell_type": "markdown",
   "metadata": {},
   "source": [
    "NOTE:please note that its not required to give the name of the Settermethod as \"setName\" & Gettermethod as \"getName\",we can give any name of that function."
   ]
  },
  {
   "cell_type": "code",
   "execution_count": null,
   "metadata": {},
   "outputs": [],
   "source": [
    "#example pgm to understand setter and getter methods:\n",
    "class student:\n",
    "    def name(self,name):#mutator\n",
    "        self.name=name\n",
    "    def xname(self): #accessor\n",
    "        return self.name\n",
    "    def marks(self,marks):\n",
    "        self.marks=marks\n",
    "    def xmarks(self):\n",
    "        return self.marks\n",
    "n=int(input(\"enter no.of students......\"))\n",
    "for i in range(n):\n",
    "    s=student() #object reference variable\n",
    "    name=input(\"enter name:\")\n",
    "    s.name(name)\n",
    "    marks=int(input(\"enter marks....\"))\n",
    "    s.marks(marks)\n",
    "    print(\"hi\",s.xname())\n",
    "    print(\"ur marks are:\",s.xmarks())\n",
    "    print()\n",
    "    \n"
   ]
  },
  {
   "cell_type": "markdown",
   "metadata": {},
   "source": [
    "## 2.Class Method:"
   ]
  },
  {
   "cell_type": "markdown",
   "metadata": {},
   "source": [
    "Inside method implementation if we are using only class varaibles(static variables),then such type of methods we should declare as class method.\n",
    "\n",
    "we can declare class method explicitly by using @classmethod decorator\n",
    "\n",
    "For class method we should provide cls variable at the time of declaration.\n",
    "\n",
    "We can call classmethod by using classname or object reference variable.\n"
   ]
  },
  {
   "cell_type": "code",
   "execution_count": null,
   "metadata": {},
   "outputs": [],
   "source": [
    "#eg pgm to understand class method:\n",
    "class animal:\n",
    "    legs=4\n",
    "    @classmethod\n",
    "    def walk(cls,name):\n",
    "        print('{} walks with {} legs'.format(name,cls.legs))\n",
    "animal.walk(\"dog\")\n",
    "animal.walk(\"cat\")"
   ]
  },
  {
   "cell_type": "code",
   "execution_count": null,
   "metadata": {},
   "outputs": [],
   "source": [
    "#pgm to track the no.of objects created for class:\n",
    "class test:\n",
    "    count=0\n",
    "    def __init__(self):\n",
    "        test.count=test.count+1\n",
    "    @classmethod\n",
    "    def noofobjects(cls):\n",
    "        print(\"no.of objects for test class :\",cls.count)\n",
    "t1=test()\n",
    "t2=test()\n",
    "test.noofobjects()\n",
    "t3=test()\n",
    "t4=test()\n",
    "t5=test()\n",
    "test.noofobjects()\n"
   ]
  },
  {
   "cell_type": "markdown",
   "metadata": {},
   "source": [
    "## 3.Static Method:\n"
   ]
  },
  {
   "cell_type": "markdown",
   "metadata": {},
   "source": [
    "In general these methods are general utility methods.\n",
    "\n",
    "Here we won't provide self or cls arguments at the time of declaration.\n",
    " \n",
    "Inside these methods we won't use any instance or class varaibles.\n",
    "\n",
    "we can declare static method explicitly by using @staticmethod decorator.\n",
    "\n",
    "we can access static methods by using classname or object reference.\n",
    "\n"
   ]
  },
  {
   "cell_type": "code",
   "execution_count": null,
   "metadata": {},
   "outputs": [],
   "source": [
    "class venkymath:\n",
    "    @staticmethod\n",
    "    def add(x,y):\n",
    "        print(\"the sum is:\",x+y)\n",
    "    @staticmethod\n",
    "    def average(x,y):\n",
    "        print(\"the average is:\",(x+y)/2)\n",
    "    @staticmethod\n",
    "    def product(x,y):\n",
    "        print(\"the product is:\",x*y)\n",
    "venkymath.add(10,20)\n",
    "venkymath.average(10,10)\n",
    "venkymath.product(10,20)\n"
   ]
  },
  {
   "cell_type": "markdown",
   "metadata": {},
   "source": [
    "NOTE:In general we can use only instance and static methods.inside static meyhod we can access class level varaibles by using class name.\n",
    "    \n",
    "    class methods are most rarely used methods in python.\n",
    "    \n",
    "    "
   ]
  },
  {
   "cell_type": "markdown",
   "metadata": {},
   "source": [
    "## Passing members of one class to another class:"
   ]
  },
  {
   "cell_type": "markdown",
   "metadata": {},
   "source": [
    "we can access the members of one class inside another class."
   ]
  },
  {
   "cell_type": "code",
   "execution_count": null,
   "metadata": {},
   "outputs": [],
   "source": [
    "#eg pgm to passing members of one class to another class:\n",
    "class employee:\n",
    "    def __init__(self,eno,ename,esal):\n",
    "        self.eno=eno\n",
    "        self.ename=ename\n",
    "        self.esal=esal\n",
    "    def display(self): #instance method\n",
    "        print(\"employee number is:\",self.eno)\n",
    "        print(\"employee name is:\",self.ename)\n",
    "        print(\"employee sal is:\",self.esal)\n",
    "class test:\n",
    "    def modify(emp):\n",
    "        emp.esal=emp.esal+10000\n",
    "        emp.display()\n",
    "e=Employee(100,\"venky\".100000)\n",
    "test.modify(e)"
   ]
  },
  {
   "cell_type": "code",
   "execution_count": null,
   "metadata": {},
   "outputs": [],
   "source": [
    "#eg pgm to passing members of one class to another class:\n",
    "class employee:\n",
    "    def __init__(self,eno,ename,esal):\n",
    "        self.eno=eno\n",
    "        self.ename=ename\n",
    "        self.esal=esal\n",
    "    def display(self): #instance method\n",
    "        print(\"employee number is:\",self.eno)\n",
    "        print(\"employee name is:\",self.ename)\n",
    "        print(\"employee sal is:\",self.esal)\n",
    "class test:\n",
    "    def modify(emp):\n",
    "        emp.esal=emp.esal+10000\n",
    "        emp.display()\n",
    "e=Employee(100,\"venky\".100000)\n",
    "e.display()\n",
    "print()\n",
    "test.modify(e)"
   ]
  },
  {
   "cell_type": "markdown",
   "metadata": {},
   "source": [
    "In the above example pgm employee class members are available to Test class."
   ]
  },
  {
   "cell_type": "markdown",
   "metadata": {},
   "source": [
    "# Inner Classes:"
   ]
  },
  {
   "cell_type": "markdown",
   "metadata": {},
   "source": [
    "Sometimes we can declare a class inside another class such type of class are called as inner classes.\n",
    "\n",
    "Without existing one type of object if there is no chance of existing another type of object,then we should go for innerclasses.\n",
    "\n",
    "Example:Without existing CAR object there is no chance of existing ENGINE object.Hence ENGINE class should be part of CAR class.\n",
    "    \n",
    "    class CAR:\n",
    "        \n",
    "        .........\n",
    "        \n",
    "        class ENGINE:\n",
    "            \n",
    "            .........\n",
    "            \n",
    "Example-2:\n",
    "    without existing UNIVERSITY object there is no chance of existing DEPARTMENT object\n",
    "    \n",
    "    class UNIVERSITY:\n",
    "        \n",
    "        ...............\n",
    "        \n",
    "        class DEPARTMENT:\n",
    "            \n",
    "            .............\n",
    "       \n",
    "    So,\n",
    "       \n",
    "        without existing outer class there is no chance of existing inner class object.hence,inner class object is always without outer class object.\n",
    "        "
   ]
  },
  {
   "cell_type": "code",
   "execution_count": 1,
   "metadata": {},
   "outputs": [
    {
     "name": "stdout",
     "output_type": "stream",
     "text": [
      "outer class object creation\n",
      "inner class object creation\n",
      "inner class method\n"
     ]
    }
   ],
   "source": [
    "#eg pgm for inner class & outer class:\n",
    "class outerclass:\n",
    "    def __init__(self):\n",
    "        print(\"outer class object creation\")\n",
    "    class innerclass:\n",
    "        def __init__(self):\n",
    "            print(\"inner class object creation\")\n",
    "        def m1(self):\n",
    "            print(\"inner class method\")\n",
    "o=outerclass()\n",
    "i=o.innerclass()\n",
    "i.m1()\n"
   ]
  },
  {
   "cell_type": "markdown",
   "metadata": {},
   "source": [
    "NOTE:the following are various possible syntaxes for calling inner class methods"
   ]
  },
  {
   "cell_type": "code",
   "execution_count": null,
   "metadata": {},
   "outputs": [],
   "source": [
    "1.\n",
    "o=Outerclass()\n",
    "i=o.Innerclass()\n",
    "i.m1()\n",
    "\n",
    "2.\n",
    "o=Outerclass().Innerclass()\n",
    "i.m1()\n",
    "\n",
    "3.\n",
    "Outerclass().Innerclass().m1()"
   ]
  },
  {
   "cell_type": "code",
   "execution_count": 3,
   "metadata": {},
   "outputs": [
    {
     "name": "stdout",
     "output_type": "stream",
     "text": [
      "name of the person is: venky\n",
      "DOB=29/2/1947\n"
     ]
    }
   ],
   "source": [
    "#eg pgm for inner & outer classes:\n",
    "class Person:\n",
    "    def __init__(self):\n",
    "        self.name=\"venky\"\n",
    "        self.db=self.DOB()\n",
    "    def display(self):\n",
    "        print(\"name of the person is:\",self.name)\n",
    "    class DOB:\n",
    "        def __init__(self):\n",
    "            self.day=29\n",
    "            self.month=2\n",
    "            self.year=1947\n",
    "        def display(self):\n",
    "            print(\"DOB={}/{}/{}\".format(self.day,self.month,self.year))\n",
    "p=Person()\n",
    "p.display()\n",
    "x=p.db\n",
    "x.display()"
   ]
  },
  {
   "cell_type": "markdown",
   "metadata": {},
   "source": [
    "NOTE:inside a class we can declare any no.of inner classes"
   ]
  },
  {
   "cell_type": "markdown",
   "metadata": {},
   "source": [
    "## Garbage Collection:"
   ]
  },
  {
   "cell_type": "markdown",
   "metadata": {},
   "source": [
    "we have some assistant which is always running in the background to destroy useless objects.Because,this assistant there maybe a chance of failing python pgm with memory problems is very less.this assistant is nothing but Garbage Collector.\n",
    "\n",
    "The main objective of Garbage collector is to destroy useless objects."
   ]
  },
  {
   "cell_type": "markdown",
   "metadata": {},
   "source": [
    "### How to enable & disable Garbage collector in our pgm:"
   ]
  },
  {
   "cell_type": "markdown",
   "metadata": {},
   "source": [
    "by default garbage collector is enabled,but we can disable based on our requirement.In this context we can use the following functions of garbage collector(gc) module."
   ]
  },
  {
   "cell_type": "code",
   "execution_count": null,
   "metadata": {},
   "outputs": [],
   "source": [
    "1.gc.isenable():\n",
    "    \n",
    "    returns True if gc is enabled\n",
    "    \n",
    "2.gc.disabled():\n",
    "    to disable gc explicitly\n",
    "    \n",
    "3.gc.enable():\n",
    "    to enable gc \n",
    "    \n"
   ]
  },
  {
   "cell_type": "markdown",
   "metadata": {},
   "source": [
    "## DESTRUCTORS:"
   ]
  },
  {
   "cell_type": "markdown",
   "metadata": {},
   "source": [
    "Destructor is a special method and the name should be \"del\".\n",
    "\n",
    "\n",
    "just before destroying an object Garbage collector always calls destructor to perform clean up activities(resource deallocation activities like close database connection etc.)\n",
    "\n",
    "\n",
    "once destructor execution completed then garbage collector automatically destroys the object.\n",
    "\n",
    "\n",
    "note: the job of destructor is not to destroy object and it is just to perform cleanup activities.\n",
    "    "
   ]
  },
  {
   "cell_type": "code",
   "execution_count": 5,
   "metadata": {},
   "outputs": [
    {
     "name": "stdout",
     "output_type": "stream",
     "text": [
      "object initialization...\n",
      "destructor is cleanup the activities...\n",
      "end of application\n"
     ]
    }
   ],
   "source": [
    "#eg pgm for destructor:\n",
    "import time\n",
    "class Test:\n",
    "    def __init__(self):\n",
    "        print(\"object initialization...\")\n",
    "    def __del__(self):\n",
    "        print(\"destructor is cleanup the activities...\")\n",
    "t1=Test()\n",
    "t1=None\n",
    "time.sleep(5)\n",
    "print(\"end of application\")\n"
   ]
  },
  {
   "cell_type": "code",
   "execution_count": 6,
   "metadata": {},
   "outputs": [
    {
     "name": "stdout",
     "output_type": "stream",
     "text": [
      "constructor execution...\n",
      "object not yet destroyed after deleting t1\n",
      "object not yet destroyed even after deleting t2\n",
      "iam trying to delete last reference varaible...\n",
      "destructor execution...\n"
     ]
    }
   ],
   "source": [
    "#eg pgm.....\n",
    "import time\n",
    "class Test:\n",
    "    def __init__(self):\n",
    "        print(\"constructor execution...\")\n",
    "    def __del__(self):\n",
    "        print(\"destructor execution...\")\n",
    "t1=Test()\n",
    "t2=t1\n",
    "t3=t2\n",
    "del t1\n",
    "time.sleep(5)\n",
    "print(\"object not yet destroyed after deleting t1\")\n",
    "del t2\n",
    "time.sleep(5)\n",
    "print(\"object not yet destroyed even after deleting t2\")\n",
    "print(\"iam trying to delete last reference varaible...\")\n",
    "del t3\n"
   ]
  },
  {
   "cell_type": "code",
   "execution_count": null,
   "metadata": {},
   "outputs": [],
   "source": [
    "\n",
    "    "
   ]
  }
 ],
 "metadata": {
  "kernelspec": {
   "display_name": "Python 3",
   "language": "python",
   "name": "python3"
  },
  "language_info": {
   "codemirror_mode": {
    "name": "ipython",
    "version": 3
   },
   "file_extension": ".py",
   "mimetype": "text/x-python",
   "name": "python",
   "nbconvert_exporter": "python",
   "pygments_lexer": "ipython3",
   "version": "3.8.5"
  }
 },
 "nbformat": 4,
 "nbformat_minor": 2
}
